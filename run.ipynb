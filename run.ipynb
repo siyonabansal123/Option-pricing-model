{
 "cells": [
  {
   "cell_type": "code",
   "execution_count": 1,
   "metadata": {},
   "outputs": [],
   "source": [
    "from analysis import predict_accuracy\n",
    "from extarct_data import get_option_pricing_data\n",
    "from models import binomial, black_scholes, monte_carlo\n",
    "\n",
    "import yfinance as yf\n",
    "import numpy as np\n",
    "import pandas as pd"
   ]
  },
  {
   "cell_type": "code",
   "execution_count": 2,
   "metadata": {},
   "outputs": [
    {
     "name": "stdout",
     "output_type": "stream",
     "text": [
      "{'S0': np.float64(233.625), 'K': np.float64(233.625), 'T': 0.005479452054794521, 'r': 0.03, 'sigma': np.float64(0.22349295680061443), 'option_type': 'call', 'expiry_date': '2024-07-19', 'ticker': 'AAPL'}\n"
     ]
    },
    {
     "name": "stderr",
     "output_type": "stream",
     "text": [
      "/Users/siyonabansal/Desktop/Option Pricing Models/extarct_data.py:10: FutureWarning: Series.__getitem__ treating keys as positions is deprecated. In a future version, integer keys will always be treated as labels (consistent with DataFrame behavior). To access a value by position, use `ser.iloc[pos]`\n",
      "  S0 = hist['Close'][-1]\n"
     ]
    }
   ],
   "source": [
    "data = get_option_pricing_data(\"AAPL\", \"call\")\n",
    "print(data)"
   ]
  },
  {
   "cell_type": "code",
   "execution_count": 3,
   "metadata": {},
   "outputs": [
    {
     "name": "stderr",
     "output_type": "stream",
     "text": [
      "/Users/siyonabansal/Desktop/Option Pricing Models/extarct_data.py:10: FutureWarning: Series.__getitem__ treating keys as positions is deprecated. In a future version, integer keys will always be treated as labels (consistent with DataFrame behavior). To access a value by position, use `ser.iloc[pos]`\n",
      "  S0 = hist['Close'][-1]\n"
     ]
    },
    {
     "data": {
      "text/html": [
       "<div>\n",
       "<style scoped>\n",
       "    .dataframe tbody tr th:only-of-type {\n",
       "        vertical-align: middle;\n",
       "    }\n",
       "\n",
       "    .dataframe tbody tr th {\n",
       "        vertical-align: top;\n",
       "    }\n",
       "\n",
       "    .dataframe thead th {\n",
       "        text-align: right;\n",
       "    }\n",
       "</style>\n",
       "<table border=\"1\" class=\"dataframe\">\n",
       "  <thead>\n",
       "    <tr style=\"text-align: right;\">\n",
       "      <th></th>\n",
       "      <th>MAE</th>\n",
       "      <th>MSE</th>\n",
       "    </tr>\n",
       "  </thead>\n",
       "  <tbody>\n",
       "    <tr>\n",
       "      <th>Monte Carlo</th>\n",
       "      <td>5.485282</td>\n",
       "      <td>79.127013</td>\n",
       "    </tr>\n",
       "    <tr>\n",
       "      <th>Black-Scholes</th>\n",
       "      <td>5.480648</td>\n",
       "      <td>79.287281</td>\n",
       "    </tr>\n",
       "    <tr>\n",
       "      <th>Binomial</th>\n",
       "      <td>5.482470</td>\n",
       "      <td>79.219194</td>\n",
       "    </tr>\n",
       "  </tbody>\n",
       "</table>\n",
       "</div>"
      ],
      "text/plain": [
       "                    MAE        MSE\n",
       "Monte Carlo    5.485282  79.127013\n",
       "Black-Scholes  5.480648  79.287281\n",
       "Binomial       5.482470  79.219194"
      ]
     },
     "execution_count": 3,
     "metadata": {},
     "output_type": "execute_result"
    }
   ],
   "source": [
    "predict_accuracy(\"AAPL\", \"call\")\n"
   ]
  }
 ],
 "metadata": {
  "kernelspec": {
   "display_name": ".venv",
   "language": "python",
   "name": "python3"
  },
  "language_info": {
   "codemirror_mode": {
    "name": "ipython",
    "version": 3
   },
   "file_extension": ".py",
   "mimetype": "text/x-python",
   "name": "python",
   "nbconvert_exporter": "python",
   "pygments_lexer": "ipython3",
   "version": "3.12.3"
  }
 },
 "nbformat": 4,
 "nbformat_minor": 2
}
